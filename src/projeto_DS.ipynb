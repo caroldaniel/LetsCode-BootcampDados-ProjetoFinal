{
 "cells": [
  {
   "cell_type": "markdown",
   "id": "0b42c248",
   "metadata": {},
   "source": [
    "# Projeto - Crédito para Financiamento de Imóveis\n",
    "\n",
    "## Avaliação do Módulo de Data Science\n",
    "\n",
    "### Base de Dados\n",
    "\n",
    "Serão utilizadas bases de dados com informações cadastrais, histórico de crédito e balanços financeiros de diversos clientes. O conjunto de dados está dividido em treino e teste, todos no formato csv. Toda a modelagem, validação e avaliação deve ser feita em cima do conjunto de treino, subdividindo tal base como achar melhor. Existe também os das variáveis explicativas, para ajudar no desenvolvimento do projeto.\n",
    "\n",
    "[Baixar aqui](https://s3-sa-east-1.amazonaws.com/lcpi/0694c90a-7782-47f7-8bbc-e611d31f9f21.zip)\n",
    "\n",
    "### Contextualização\n",
    "\n",
    "A PyCoders Ltda., cada vez mais especializada no mundo da Inteligência Artificial e Ciência de Dados, foi procurada por uma fintech para desenvolver um projeto de concessão de crédito para imóveis. Nesse projeto, espera-se a criação de valor que discrimine ao máximo os bons pagadores dos maus pagadores. Para isso, foi disponibilizada uma base de dados com milhares de casos de empréstimos do passado, com diversas características dos clientes. Deve ser entregue um modelo para realizar essa classificação. Por questões contratuais, o pagamento será realizado baseado no desempenho (ROC AUC).\n",
    "\n",
    "### Requisitos Obrigatórios do Projeto\n",
    "\n",
    "1. **Análise Exploratória dos Dados:** análise descritiva dos dados numéricos e categóricos, bem como gráficos (de sua preferência).\n",
    "2. **Data Cleaning:** a base de dados apresenta dados ausentes. Sendo assim, você deverá realizar uma limpeza dos dados, removendo-os ou preenchendo com valores coerentes.\n",
    "3. **Conversão de variáveis categóricas**\n",
    "4. **Balanceamento de amostras:** nesse caso, como o dataset possui muitas amostras, você pode utilizar o NearMiss para realizar um *under sampling*.\n",
    "5. **Machine Learning:** aplique algum algoritmo de ML, de sua preferência, dividindo o seu conjunto de dados em treino e teste, para obter o `roc_auc_score` de ambos os cenários (treino e teste).\n",
    "\n",
    "### Regras de Entrega\n",
    "\n",
    "1. Deve ser entregue uma base com as predições para a base de teste.\n",
    "    - Essa base deverá ser um Data Frame com duas colunas: a primeira sendo o SK_ID_CURR e a segunda a probabilidade de inadimplência.\n",
    "    - ⚠️ Entregar as predições com a probabilidade da inadimplência ocorrer.\n",
    "2. Deve ser entregue o notebook com as etapas que foram aplicadas na criação do modelo (especificadas na subseção anterior).\n",
    "\n",
    "> **IMPORTANTE:** Tendo em vista que não teremos apresentação do projeto (e eu não quero pedir que vocês gravem um vídeo explicando o notebook, haha), é indispensável que ele esteja organizado e comentado."
   ]
  },
  {
   "cell_type": "code",
   "execution_count": null,
   "id": "dabefd8f",
   "metadata": {},
   "outputs": [],
   "source": [
    "# Importação das bibliotecas\n",
    "import numpy as np\n",
    "import pandas as pd\n",
    "import matplotlib.pyplot as plt\n",
    "import seaborn as sns\n",
    "import plotly.express as px\n",
    "import plotly.io as pio\n",
    "\n",
    "sns.set()\n",
    "pio.templates.default = 'plotly_dark'"
   ]
  },
  {
   "cell_type": "code",
   "execution_count": null,
   "id": "fb2db1ba",
   "metadata": {},
   "outputs": [],
   "source": [
    "# Checar tamanho da tabela original\n",
    "df_old = pd.read_csv('../data/application_train.csv')\n",
    "df_old.shape"
   ]
  },
  {
   "cell_type": "code",
   "execution_count": null,
   "id": "bfc9e1df",
   "metadata": {},
   "outputs": [],
   "source": [
    "# Importação da tabela gerada na etapa de Data Engineering\n",
    "df = pd.read_csv('../data/cleaned_application_train.csv')\n",
    "df.shape"
   ]
  },
  {
   "cell_type": "markdown",
   "id": "7232c8ff",
   "metadata": {},
   "source": [
    "### Análise Exploratória dos Dados"
   ]
  },
  {
   "cell_type": "code",
   "execution_count": null,
   "id": "fa4d94ac",
   "metadata": {},
   "outputs": [],
   "source": [
    "df.head()"
   ]
  },
  {
   "cell_type": "code",
   "execution_count": null,
   "id": "8132b260",
   "metadata": {},
   "outputs": [],
   "source": [
    "df.describe()"
   ]
  },
  {
   "cell_type": "code",
   "execution_count": null,
   "id": "c94bde53",
   "metadata": {},
   "outputs": [],
   "source": [
    "#Nível de maior educação alcançado pelos clientes\n",
    "df['NAME_EDUCATION_TYPE'].value_counts().head()"
   ]
  },
  {
   "cell_type": "code",
   "execution_count": null,
   "id": "d3dd27a7",
   "metadata": {},
   "outputs": [],
   "source": [
    "plt.figure(figsize=(15, 5))\n",
    "sns.countplot(data=df, x='NAME_HOUSING_TYPE', hue='CODE_GENDER', palette={\"M\": \"b\", \"F\": \"r\", \"XNA\": \"g\"})\n",
    "plt.xlabel('Tipo de Moradia')\n",
    "plt.ylabel('Quantidade')\n",
    "plt.grid()\n",
    "plt.title(\"Quantidade de moradores por tipo de Moradia e Gênero\")"
   ]
  },
  {
   "cell_type": "code",
   "execution_count": null,
   "id": "e72da477",
   "metadata": {},
   "outputs": [],
   "source": [
    "df_idade = df['DAYS_BIRTH']/360 * -1\n",
    "plt.figure(figsize = (15, 5))\n",
    "df_idade.hist(bins = 40, ec = \"k\", alpha = .6, color = \"c\")\n",
    "plt.title(\"Distribuição das Idades dos Clientes no momento da inscrição\")\n",
    "plt.xlabel(\"Idade\")\n",
    "plt.ylabel(\"Quantidade\")"
   ]
  },
  {
   "cell_type": "code",
   "execution_count": null,
   "id": "dab74dfd",
   "metadata": {},
   "outputs": [],
   "source": [
    "plt.figure(figsize=(6, 6))\n",
    "explode = (0.1, 0, 0, 0, 0, 0, 0)\n",
    "colors = (\"yellow\", \"olivedrab\", \"yellowgreen\", \"chartreuse\", \"darkolivegreen\", \"lightgreen\", \"green\") \n",
    "plt.pie(df['WEEKDAY_APPR_PROCESS_START'].value_counts(), labels=df['WEEKDAY_APPR_PROCESS_START'].value_counts().index, autopct='%.2f%%', pctdistance=0.5, explode=explode, colors=colors)\n",
    "plt.title(\"Porcentagem de empréstimos feitos em dias da semana\")\n",
    "plt.show()"
   ]
  },
  {
   "cell_type": "code",
   "execution_count": null,
   "id": "b1ef2bb6",
   "metadata": {},
   "outputs": [],
   "source": [
    "#Para discutir, falta arrumar\n",
    "plt.figure(figsize=(20, 20))\n",
    "sns.heatmap(df.corr(), cmap='coolwarm', vmin=-1, vmax=1, annot=True)"
   ]
  },
  {
   "cell_type": "markdown",
   "id": "835bb70c",
   "metadata": {},
   "source": [
    "### Data Cleaning"
   ]
  },
  {
   "cell_type": "code",
   "execution_count": null,
   "id": "04df97a3",
   "metadata": {},
   "outputs": [],
   "source": []
  },
  {
   "cell_type": "markdown",
   "id": "8e1febbb",
   "metadata": {},
   "source": [
    "### Conversão de variáveis categóricas"
   ]
  },
  {
   "cell_type": "code",
   "execution_count": null,
   "id": "d8a65753",
   "metadata": {},
   "outputs": [],
   "source": []
  },
  {
   "cell_type": "markdown",
   "id": "6544d1f2",
   "metadata": {},
   "source": [
    "### Balanceamento de amostras"
   ]
  },
  {
   "cell_type": "code",
   "execution_count": null,
   "id": "3f163284",
   "metadata": {},
   "outputs": [],
   "source": []
  },
  {
   "cell_type": "markdown",
   "id": "116d959e",
   "metadata": {},
   "source": [
    "### Machine Learning"
   ]
  },
  {
   "cell_type": "code",
   "execution_count": null,
   "id": "ddd18216",
   "metadata": {},
   "outputs": [],
   "source": []
  }
 ],
 "metadata": {
  "kernelspec": {
   "display_name": "Python 3 (ipykernel)",
   "language": "python",
   "name": "python3"
  },
  "language_info": {
   "codemirror_mode": {
    "name": "ipython",
    "version": 3
   },
   "file_extension": ".py",
   "mimetype": "text/x-python",
   "name": "python",
   "nbconvert_exporter": "python",
   "pygments_lexer": "ipython3",
   "version": "3.9.7"
  }
 },
 "nbformat": 4,
 "nbformat_minor": 5
}
